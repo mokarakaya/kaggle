{
 "cells": [
  {
   "cell_type": "code",
   "id": "initial_id",
   "metadata": {
    "collapsed": true,
    "ExecuteTime": {
     "end_time": "2025-02-28T23:02:31.174608Z",
     "start_time": "2025-02-28T23:02:31.172765Z"
    }
   },
   "source": [
    "import pandas as pd\n",
    "from sklearn.model_selection import train_test_split\n",
    "from catboost import Pool, CatBoostClassifier\n",
    "from sklearn.metrics import classification_report, confusion_matrix"
   ],
   "outputs": [],
   "execution_count": 26
  },
  {
   "metadata": {
    "ExecuteTime": {
     "end_time": "2025-02-28T22:53:01.266743Z",
     "start_time": "2025-02-28T22:53:01.047993Z"
    }
   },
   "cell_type": "code",
   "source": [
    "df = pd.read_csv(\"data/ecommerceDataset.csv\", names=[\"label\", \"text\"])\n",
    "df.head()"
   ],
   "id": "72db9ca4d7011419",
   "outputs": [
    {
     "data": {
      "text/plain": [
       "       label                                               text\n",
       "0  Household  Paper Plane Design Framed Wall Hanging Motivat...\n",
       "1  Household  SAF 'Floral' Framed Painting (Wood, 30 inch x ...\n",
       "2  Household  SAF 'UV Textured Modern Art Print Framed' Pain...\n",
       "3  Household  SAF Flower Print Framed Painting (Synthetic, 1...\n",
       "4  Household  Incredible Gifts India Wooden Happy Birthday U..."
      ],
      "text/html": [
       "<div>\n",
       "<style scoped>\n",
       "    .dataframe tbody tr th:only-of-type {\n",
       "        vertical-align: middle;\n",
       "    }\n",
       "\n",
       "    .dataframe tbody tr th {\n",
       "        vertical-align: top;\n",
       "    }\n",
       "\n",
       "    .dataframe thead th {\n",
       "        text-align: right;\n",
       "    }\n",
       "</style>\n",
       "<table border=\"1\" class=\"dataframe\">\n",
       "  <thead>\n",
       "    <tr style=\"text-align: right;\">\n",
       "      <th></th>\n",
       "      <th>label</th>\n",
       "      <th>text</th>\n",
       "    </tr>\n",
       "  </thead>\n",
       "  <tbody>\n",
       "    <tr>\n",
       "      <th>0</th>\n",
       "      <td>Household</td>\n",
       "      <td>Paper Plane Design Framed Wall Hanging Motivat...</td>\n",
       "    </tr>\n",
       "    <tr>\n",
       "      <th>1</th>\n",
       "      <td>Household</td>\n",
       "      <td>SAF 'Floral' Framed Painting (Wood, 30 inch x ...</td>\n",
       "    </tr>\n",
       "    <tr>\n",
       "      <th>2</th>\n",
       "      <td>Household</td>\n",
       "      <td>SAF 'UV Textured Modern Art Print Framed' Pain...</td>\n",
       "    </tr>\n",
       "    <tr>\n",
       "      <th>3</th>\n",
       "      <td>Household</td>\n",
       "      <td>SAF Flower Print Framed Painting (Synthetic, 1...</td>\n",
       "    </tr>\n",
       "    <tr>\n",
       "      <th>4</th>\n",
       "      <td>Household</td>\n",
       "      <td>Incredible Gifts India Wooden Happy Birthday U...</td>\n",
       "    </tr>\n",
       "  </tbody>\n",
       "</table>\n",
       "</div>"
      ]
     },
     "execution_count": 8,
     "metadata": {},
     "output_type": "execute_result"
    }
   ],
   "execution_count": 8
  },
  {
   "metadata": {
    "ExecuteTime": {
     "end_time": "2025-02-28T22:58:53.262822Z",
     "start_time": "2025-02-28T22:58:53.251681Z"
    }
   },
   "cell_type": "code",
   "source": [
    "df['label'] = df['label'].astype('category')\n",
    "df['text'] = df['text'].astype('str')\n",
    "df.info()"
   ],
   "id": "d53b64629294496a",
   "outputs": [
    {
     "name": "stdout",
     "output_type": "stream",
     "text": [
      "<class 'pandas.core.frame.DataFrame'>\n",
      "RangeIndex: 50425 entries, 0 to 50424\n",
      "Data columns (total 2 columns):\n",
      " #   Column  Non-Null Count  Dtype   \n",
      "---  ------  --------------  -----   \n",
      " 0   label   50425 non-null  category\n",
      " 1   text    50425 non-null  object  \n",
      "dtypes: category(1), object(1)\n",
      "memory usage: 443.5+ KB\n"
     ]
    }
   ],
   "execution_count": 16
  },
  {
   "metadata": {
    "ExecuteTime": {
     "end_time": "2025-02-28T23:00:33.985253Z",
     "start_time": "2025-02-28T23:00:33.938478Z"
    }
   },
   "cell_type": "code",
   "source": [
    "X = df[['text']]\n",
    "y = df['label']\n",
    "X_train, X_test, y_train, y_test = train_test_split(X, y,stratify=y,test_size=0.20)\n",
    "X_train, X_val, y_train, y_val = train_test_split(X_train, y_train,stratify=y_train,test_size=0.20)"
   ],
   "id": "114e2112e2263fd2",
   "outputs": [],
   "execution_count": 22
  },
  {
   "metadata": {
    "ExecuteTime": {
     "end_time": "2025-02-28T23:05:38.153392Z",
     "start_time": "2025-02-28T23:05:33.351174Z"
    }
   },
   "cell_type": "code",
   "source": [
    "column_names = ['text']\n",
    "text_features = ['text']\n",
    "train_pool = Pool(X_train, label=y_train, text_features=text_features, feature_names=column_names)\n",
    "val_pool = Pool(X_val, label=y_val, text_features=text_features, feature_names=column_names)\n",
    "model = CatBoostClassifier(iterations=100, depth=3, learning_rate=0.1, verbose=True, auto_class_weights = \"Balanced\")\n",
    "model.fit(train_pool, eval_set=val_pool, use_best_model=True, early_stopping_rounds=50)"
   ],
   "id": "79784303463f1032",
   "outputs": [
    {
     "name": "stdout",
     "output_type": "stream",
     "text": [
      "0:\tlearn: 1.1418975\ttest: 1.1377865\tbest: 1.1377865 (0)\ttotal: 40ms\tremaining: 3.96s\n",
      "1:\tlearn: 0.9760046\ttest: 0.9685924\tbest: 0.9685924 (1)\ttotal: 81.3ms\tremaining: 3.98s\n",
      "2:\tlearn: 0.8515481\ttest: 0.8420847\tbest: 0.8420847 (2)\ttotal: 122ms\tremaining: 3.95s\n",
      "3:\tlearn: 0.7553615\ttest: 0.7442942\tbest: 0.7442942 (3)\ttotal: 161ms\tremaining: 3.88s\n",
      "4:\tlearn: 0.6769321\ttest: 0.6642041\tbest: 0.6642041 (4)\ttotal: 200ms\tremaining: 3.81s\n",
      "5:\tlearn: 0.6129491\ttest: 0.5984553\tbest: 0.5984553 (5)\ttotal: 240ms\tremaining: 3.75s\n",
      "6:\tlearn: 0.5602650\ttest: 0.5444227\tbest: 0.5444227 (6)\ttotal: 281ms\tremaining: 3.73s\n",
      "7:\tlearn: 0.5154574\ttest: 0.4986516\tbest: 0.4986516 (7)\ttotal: 322ms\tremaining: 3.7s\n",
      "8:\tlearn: 0.4771987\ttest: 0.4594676\tbest: 0.4594676 (8)\ttotal: 367ms\tremaining: 3.71s\n",
      "9:\tlearn: 0.4445906\ttest: 0.4257451\tbest: 0.4257451 (9)\ttotal: 410ms\tremaining: 3.69s\n",
      "10:\tlearn: 0.4167552\ttest: 0.3968471\tbest: 0.3968471 (10)\ttotal: 450ms\tremaining: 3.64s\n",
      "11:\tlearn: 0.3925019\ttest: 0.3715470\tbest: 0.3715470 (11)\ttotal: 493ms\tremaining: 3.61s\n",
      "12:\tlearn: 0.3717446\ttest: 0.3498181\tbest: 0.3498181 (12)\ttotal: 536ms\tremaining: 3.59s\n",
      "13:\tlearn: 0.3530196\ttest: 0.3304958\tbest: 0.3304958 (13)\ttotal: 578ms\tremaining: 3.55s\n",
      "14:\tlearn: 0.3375418\ttest: 0.3141459\tbest: 0.3141459 (14)\ttotal: 635ms\tremaining: 3.6s\n",
      "15:\tlearn: 0.3236496\ttest: 0.2996355\tbest: 0.2996355 (15)\ttotal: 680ms\tremaining: 3.57s\n",
      "16:\tlearn: 0.3109816\ttest: 0.2861570\tbest: 0.2861570 (16)\ttotal: 725ms\tremaining: 3.54s\n",
      "17:\tlearn: 0.3001826\ttest: 0.2749231\tbest: 0.2749231 (17)\ttotal: 770ms\tremaining: 3.5s\n",
      "18:\tlearn: 0.2905300\ttest: 0.2646524\tbest: 0.2646524 (18)\ttotal: 813ms\tremaining: 3.46s\n",
      "19:\tlearn: 0.2824689\ttest: 0.2561091\tbest: 0.2561091 (19)\ttotal: 855ms\tremaining: 3.42s\n",
      "20:\tlearn: 0.2747430\ttest: 0.2480488\tbest: 0.2480488 (20)\ttotal: 896ms\tremaining: 3.37s\n",
      "21:\tlearn: 0.2681538\ttest: 0.2411164\tbest: 0.2411164 (21)\ttotal: 938ms\tremaining: 3.33s\n",
      "22:\tlearn: 0.2625135\ttest: 0.2351357\tbest: 0.2351357 (22)\ttotal: 979ms\tremaining: 3.28s\n",
      "23:\tlearn: 0.2573516\ttest: 0.2296809\tbest: 0.2296809 (23)\ttotal: 1.02s\tremaining: 3.23s\n",
      "24:\tlearn: 0.2525749\ttest: 0.2245548\tbest: 0.2245548 (24)\ttotal: 1.06s\tremaining: 3.19s\n",
      "25:\tlearn: 0.2488427\ttest: 0.2204810\tbest: 0.2204810 (25)\ttotal: 1.1s\tremaining: 3.14s\n",
      "26:\tlearn: 0.2455889\ttest: 0.2169166\tbest: 0.2169166 (26)\ttotal: 1.14s\tremaining: 3.09s\n",
      "27:\tlearn: 0.2422433\ttest: 0.2131794\tbest: 0.2131794 (27)\ttotal: 1.19s\tremaining: 3.06s\n",
      "28:\tlearn: 0.2390386\ttest: 0.2095756\tbest: 0.2095756 (28)\ttotal: 1.23s\tremaining: 3.02s\n",
      "29:\tlearn: 0.2362890\ttest: 0.2065535\tbest: 0.2065535 (29)\ttotal: 1.27s\tremaining: 2.97s\n",
      "30:\tlearn: 0.2346315\ttest: 0.2047211\tbest: 0.2047211 (30)\ttotal: 1.32s\tremaining: 2.93s\n",
      "31:\tlearn: 0.2330869\ttest: 0.2029652\tbest: 0.2029652 (31)\ttotal: 1.36s\tremaining: 2.9s\n",
      "32:\tlearn: 0.2312100\ttest: 0.2012286\tbest: 0.2012286 (32)\ttotal: 1.4s\tremaining: 2.84s\n",
      "33:\tlearn: 0.2299293\ttest: 0.1999272\tbest: 0.1999272 (33)\ttotal: 1.44s\tremaining: 2.79s\n",
      "34:\tlearn: 0.2287138\ttest: 0.1986671\tbest: 0.1986671 (34)\ttotal: 1.47s\tremaining: 2.74s\n",
      "35:\tlearn: 0.2279999\ttest: 0.1979615\tbest: 0.1979615 (35)\ttotal: 1.51s\tremaining: 2.69s\n",
      "36:\tlearn: 0.2264551\ttest: 0.1960955\tbest: 0.1960955 (36)\ttotal: 1.55s\tremaining: 2.65s\n",
      "37:\tlearn: 0.2256939\ttest: 0.1952785\tbest: 0.1952785 (37)\ttotal: 1.59s\tremaining: 2.6s\n",
      "38:\tlearn: 0.2240930\ttest: 0.1935092\tbest: 0.1935092 (38)\ttotal: 1.64s\tremaining: 2.57s\n",
      "39:\tlearn: 0.2238810\ttest: 0.1933705\tbest: 0.1933705 (39)\ttotal: 1.68s\tremaining: 2.51s\n",
      "40:\tlearn: 0.2233079\ttest: 0.1927864\tbest: 0.1927864 (40)\ttotal: 1.71s\tremaining: 2.46s\n",
      "41:\tlearn: 0.2232528\ttest: 0.1927773\tbest: 0.1927773 (41)\ttotal: 1.74s\tremaining: 2.41s\n",
      "42:\tlearn: 0.2224990\ttest: 0.1921689\tbest: 0.1921689 (42)\ttotal: 1.82s\tremaining: 2.41s\n",
      "43:\tlearn: 0.2219402\ttest: 0.1917610\tbest: 0.1917610 (43)\ttotal: 1.86s\tremaining: 2.37s\n",
      "44:\tlearn: 0.2213149\ttest: 0.1909590\tbest: 0.1909590 (44)\ttotal: 1.91s\tremaining: 2.33s\n",
      "45:\tlearn: 0.2207034\ttest: 0.1903344\tbest: 0.1903344 (45)\ttotal: 1.95s\tremaining: 2.29s\n",
      "46:\tlearn: 0.2203035\ttest: 0.1901477\tbest: 0.1901477 (46)\ttotal: 1.99s\tremaining: 2.24s\n",
      "47:\tlearn: 0.2200162\ttest: 0.1900388\tbest: 0.1900388 (47)\ttotal: 2.02s\tremaining: 2.19s\n",
      "48:\tlearn: 0.2194904\ttest: 0.1896486\tbest: 0.1896486 (48)\ttotal: 2.07s\tremaining: 2.15s\n",
      "49:\tlearn: 0.2186603\ttest: 0.1888153\tbest: 0.1888153 (49)\ttotal: 2.11s\tremaining: 2.11s\n",
      "50:\tlearn: 0.2184229\ttest: 0.1887135\tbest: 0.1887135 (50)\ttotal: 2.15s\tremaining: 2.06s\n",
      "51:\tlearn: 0.2183514\ttest: 0.1885937\tbest: 0.1885937 (51)\ttotal: 2.19s\tremaining: 2.02s\n",
      "52:\tlearn: 0.2181565\ttest: 0.1884185\tbest: 0.1884185 (52)\ttotal: 2.22s\tremaining: 1.97s\n",
      "53:\tlearn: 0.2180009\ttest: 0.1882450\tbest: 0.1882450 (53)\ttotal: 2.26s\tremaining: 1.93s\n",
      "54:\tlearn: 0.2174673\ttest: 0.1878216\tbest: 0.1878216 (54)\ttotal: 2.3s\tremaining: 1.88s\n",
      "55:\tlearn: 0.2168071\ttest: 0.1874061\tbest: 0.1874061 (55)\ttotal: 2.36s\tremaining: 1.85s\n",
      "56:\tlearn: 0.2166580\ttest: 0.1872867\tbest: 0.1872867 (56)\ttotal: 2.39s\tremaining: 1.81s\n",
      "57:\tlearn: 0.2165097\ttest: 0.1870750\tbest: 0.1870750 (57)\ttotal: 2.43s\tremaining: 1.76s\n",
      "58:\tlearn: 0.2163876\ttest: 0.1869010\tbest: 0.1869010 (58)\ttotal: 2.47s\tremaining: 1.72s\n",
      "59:\tlearn: 0.2162894\ttest: 0.1868323\tbest: 0.1868323 (59)\ttotal: 2.51s\tremaining: 1.67s\n",
      "60:\tlearn: 0.2162129\ttest: 0.1867746\tbest: 0.1867746 (60)\ttotal: 2.54s\tremaining: 1.63s\n",
      "61:\tlearn: 0.2160535\ttest: 0.1867376\tbest: 0.1867376 (61)\ttotal: 2.58s\tremaining: 1.58s\n",
      "62:\tlearn: 0.2159390\ttest: 0.1867222\tbest: 0.1867222 (62)\ttotal: 2.61s\tremaining: 1.53s\n",
      "63:\tlearn: 0.2156497\ttest: 0.1865656\tbest: 0.1865656 (63)\ttotal: 2.65s\tremaining: 1.49s\n",
      "64:\tlearn: 0.2154602\ttest: 0.1864579\tbest: 0.1864579 (64)\ttotal: 2.68s\tremaining: 1.44s\n",
      "65:\tlearn: 0.2148257\ttest: 0.1859298\tbest: 0.1859298 (65)\ttotal: 2.72s\tremaining: 1.4s\n",
      "66:\tlearn: 0.2146798\ttest: 0.1858299\tbest: 0.1858299 (66)\ttotal: 2.75s\tremaining: 1.35s\n",
      "67:\tlearn: 0.2142829\ttest: 0.1855078\tbest: 0.1855078 (67)\ttotal: 2.79s\tremaining: 1.31s\n",
      "68:\tlearn: 0.2140715\ttest: 0.1852963\tbest: 0.1852963 (68)\ttotal: 2.83s\tremaining: 1.27s\n",
      "69:\tlearn: 0.2134007\ttest: 0.1846537\tbest: 0.1846537 (69)\ttotal: 2.87s\tremaining: 1.23s\n",
      "70:\tlearn: 0.2130183\ttest: 0.1842625\tbest: 0.1842625 (70)\ttotal: 2.91s\tremaining: 1.19s\n",
      "71:\tlearn: 0.2129088\ttest: 0.1842135\tbest: 0.1842135 (71)\ttotal: 2.95s\tremaining: 1.15s\n",
      "72:\tlearn: 0.2127010\ttest: 0.1839617\tbest: 0.1839617 (72)\ttotal: 2.98s\tremaining: 1.1s\n",
      "73:\tlearn: 0.2123660\ttest: 0.1838640\tbest: 0.1838640 (73)\ttotal: 3.01s\tremaining: 1.06s\n",
      "74:\tlearn: 0.2122735\ttest: 0.1838195\tbest: 0.1838195 (74)\ttotal: 3.04s\tremaining: 1.01s\n",
      "75:\tlearn: 0.2121547\ttest: 0.1837693\tbest: 0.1837693 (75)\ttotal: 3.08s\tremaining: 971ms\n",
      "76:\tlearn: 0.2116059\ttest: 0.1834233\tbest: 0.1834233 (76)\ttotal: 3.11s\tremaining: 929ms\n",
      "77:\tlearn: 0.2114700\ttest: 0.1833618\tbest: 0.1833618 (77)\ttotal: 3.15s\tremaining: 887ms\n",
      "78:\tlearn: 0.2113940\ttest: 0.1833238\tbest: 0.1833238 (78)\ttotal: 3.18s\tremaining: 845ms\n",
      "79:\tlearn: 0.2113413\ttest: 0.1832803\tbest: 0.1832803 (79)\ttotal: 3.21s\tremaining: 803ms\n",
      "80:\tlearn: 0.2111564\ttest: 0.1830917\tbest: 0.1830917 (80)\ttotal: 3.25s\tremaining: 761ms\n",
      "81:\tlearn: 0.2107422\ttest: 0.1828101\tbest: 0.1828101 (81)\ttotal: 3.29s\tremaining: 721ms\n",
      "82:\tlearn: 0.2106168\ttest: 0.1826462\tbest: 0.1826462 (82)\ttotal: 3.32s\tremaining: 680ms\n",
      "83:\tlearn: 0.2104738\ttest: 0.1825867\tbest: 0.1825867 (83)\ttotal: 3.35s\tremaining: 638ms\n",
      "84:\tlearn: 0.2103682\ttest: 0.1825437\tbest: 0.1825437 (84)\ttotal: 3.39s\tremaining: 598ms\n",
      "85:\tlearn: 0.2102792\ttest: 0.1825108\tbest: 0.1825108 (85)\ttotal: 3.42s\tremaining: 557ms\n",
      "86:\tlearn: 0.2099678\ttest: 0.1823933\tbest: 0.1823933 (86)\ttotal: 3.45s\tremaining: 516ms\n",
      "87:\tlearn: 0.2099257\ttest: 0.1823657\tbest: 0.1823657 (87)\ttotal: 3.48s\tremaining: 475ms\n",
      "88:\tlearn: 0.2097730\ttest: 0.1823015\tbest: 0.1823015 (88)\ttotal: 3.52s\tremaining: 436ms\n",
      "89:\tlearn: 0.2095728\ttest: 0.1822234\tbest: 0.1822234 (89)\ttotal: 3.56s\tremaining: 396ms\n",
      "90:\tlearn: 0.2095107\ttest: 0.1822295\tbest: 0.1822234 (89)\ttotal: 3.59s\tremaining: 355ms\n",
      "91:\tlearn: 0.2093582\ttest: 0.1821734\tbest: 0.1821734 (91)\ttotal: 3.63s\tremaining: 316ms\n",
      "92:\tlearn: 0.2092330\ttest: 0.1820544\tbest: 0.1820544 (92)\ttotal: 3.66s\tremaining: 276ms\n",
      "93:\tlearn: 0.2089858\ttest: 0.1817337\tbest: 0.1817337 (93)\ttotal: 3.69s\tremaining: 236ms\n",
      "94:\tlearn: 0.2088255\ttest: 0.1816718\tbest: 0.1816718 (94)\ttotal: 3.73s\tremaining: 196ms\n",
      "95:\tlearn: 0.2085946\ttest: 0.1813683\tbest: 0.1813683 (95)\ttotal: 3.76s\tremaining: 157ms\n",
      "96:\tlearn: 0.2084847\ttest: 0.1812918\tbest: 0.1812918 (96)\ttotal: 3.8s\tremaining: 117ms\n",
      "97:\tlearn: 0.2083801\ttest: 0.1812722\tbest: 0.1812722 (97)\ttotal: 3.83s\tremaining: 78.2ms\n",
      "98:\tlearn: 0.2083254\ttest: 0.1811993\tbest: 0.1811993 (98)\ttotal: 3.86s\tremaining: 39ms\n",
      "99:\tlearn: 0.2080562\ttest: 0.1808821\tbest: 0.1808821 (99)\ttotal: 3.9s\tremaining: 0us\n",
      "\n",
      "bestTest = 0.1808821448\n",
      "bestIteration = 99\n",
      "\n"
     ]
    },
    {
     "data": {
      "text/plain": [
       "<catboost.core.CatBoostClassifier at 0x33132e220>"
      ]
     },
     "execution_count": 28,
     "metadata": {},
     "output_type": "execute_result"
    }
   ],
   "execution_count": 28
  },
  {
   "metadata": {
    "ExecuteTime": {
     "end_time": "2025-02-28T23:05:56.874957Z",
     "start_time": "2025-02-28T23:05:56.830308Z"
    }
   },
   "cell_type": "code",
   "source": "predictions = model.predict(X_test)",
   "id": "3457c9975f2d6cd0",
   "outputs": [],
   "execution_count": 29
  },
  {
   "metadata": {
    "ExecuteTime": {
     "end_time": "2025-02-28T23:05:57.739547Z",
     "start_time": "2025-02-28T23:05:57.592541Z"
    }
   },
   "cell_type": "code",
   "source": [
    "print(classification_report(y_test, predictions))\n",
    "print(confusion_matrix(y_test, predictions))"
   ],
   "id": "d9a72251b34f0ef6",
   "outputs": [
    {
     "name": "stdout",
     "output_type": "stream",
     "text": [
      "                        precision    recall  f1-score   support\n",
      "\n",
      "                 Books       0.95      0.95      0.95      2364\n",
      "Clothing & Accessories       0.96      0.98      0.97      1734\n",
      "           Electronics       0.96      0.93      0.95      2124\n",
      "             Household       0.96      0.96      0.96      3863\n",
      "\n",
      "              accuracy                           0.96     10085\n",
      "             macro avg       0.96      0.96      0.96     10085\n",
      "          weighted avg       0.96      0.96      0.96     10085\n",
      "\n",
      "[[2235   20   26   83]\n",
      " [   6 1699   13   16]\n",
      " [  54   12 1984   74]\n",
      " [  51   48   48 3716]]\n"
     ]
    }
   ],
   "execution_count": 30
  },
  {
   "metadata": {},
   "cell_type": "code",
   "outputs": [],
   "execution_count": null,
   "source": "",
   "id": "aaee7843db0df36"
  }
 ],
 "metadata": {
  "kernelspec": {
   "display_name": "Python 3",
   "language": "python",
   "name": "python3"
  },
  "language_info": {
   "codemirror_mode": {
    "name": "ipython",
    "version": 2
   },
   "file_extension": ".py",
   "mimetype": "text/x-python",
   "name": "python",
   "nbconvert_exporter": "python",
   "pygments_lexer": "ipython2",
   "version": "2.7.6"
  }
 },
 "nbformat": 4,
 "nbformat_minor": 5
}
