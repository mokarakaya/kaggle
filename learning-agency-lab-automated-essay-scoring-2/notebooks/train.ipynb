{
 "cells": [
  {
   "cell_type": "code",
   "execution_count": 31,
   "metadata": {},
   "outputs": [],
   "source": [
    "import pandas as pd\n",
    "from catboost import CatBoostRegressor, Pool\n",
    "from sklearn.model_selection import train_test_split\n",
    "from sklearn.metrics import accuracy_score"
   ]
  },
  {
   "cell_type": "code",
   "execution_count": 2,
   "metadata": {},
   "outputs": [],
   "source": [
    "df = pd.read_csv('../data/train.csv')"
   ]
  },
  {
   "cell_type": "code",
   "execution_count": 3,
   "metadata": {},
   "outputs": [
    {
     "data": {
      "text/html": [
       "<div>\n",
       "<style scoped>\n",
       "    .dataframe tbody tr th:only-of-type {\n",
       "        vertical-align: middle;\n",
       "    }\n",
       "\n",
       "    .dataframe tbody tr th {\n",
       "        vertical-align: top;\n",
       "    }\n",
       "\n",
       "    .dataframe thead th {\n",
       "        text-align: right;\n",
       "    }\n",
       "</style>\n",
       "<table border=\"1\" class=\"dataframe\">\n",
       "  <thead>\n",
       "    <tr style=\"text-align: right;\">\n",
       "      <th></th>\n",
       "      <th>essay_id</th>\n",
       "      <th>full_text</th>\n",
       "      <th>score</th>\n",
       "    </tr>\n",
       "  </thead>\n",
       "  <tbody>\n",
       "    <tr>\n",
       "      <th>0</th>\n",
       "      <td>000d118</td>\n",
       "      <td>Many people have car where they live. The thin...</td>\n",
       "      <td>3</td>\n",
       "    </tr>\n",
       "    <tr>\n",
       "      <th>1</th>\n",
       "      <td>000fe60</td>\n",
       "      <td>I am a scientist at NASA that is discussing th...</td>\n",
       "      <td>3</td>\n",
       "    </tr>\n",
       "    <tr>\n",
       "      <th>2</th>\n",
       "      <td>001ab80</td>\n",
       "      <td>People always wish they had the same technolog...</td>\n",
       "      <td>4</td>\n",
       "    </tr>\n",
       "    <tr>\n",
       "      <th>3</th>\n",
       "      <td>001bdc0</td>\n",
       "      <td>We all heard about Venus, the planet without a...</td>\n",
       "      <td>4</td>\n",
       "    </tr>\n",
       "    <tr>\n",
       "      <th>4</th>\n",
       "      <td>002ba53</td>\n",
       "      <td>Dear, State Senator\\n\\nThis is a letter to arg...</td>\n",
       "      <td>3</td>\n",
       "    </tr>\n",
       "  </tbody>\n",
       "</table>\n",
       "</div>"
      ],
      "text/plain": [
       "  essay_id                                          full_text  score\n",
       "0  000d118  Many people have car where they live. The thin...      3\n",
       "1  000fe60  I am a scientist at NASA that is discussing th...      3\n",
       "2  001ab80  People always wish they had the same technolog...      4\n",
       "3  001bdc0  We all heard about Venus, the planet without a...      4\n",
       "4  002ba53  Dear, State Senator\\n\\nThis is a letter to arg...      3"
      ]
     },
     "execution_count": 3,
     "metadata": {},
     "output_type": "execute_result"
    }
   ],
   "source": [
    "df.head()"
   ]
  },
  {
   "cell_type": "code",
   "execution_count": 4,
   "metadata": {},
   "outputs": [
    {
     "data": {
      "text/html": [
       "<div>\n",
       "<style scoped>\n",
       "    .dataframe tbody tr th:only-of-type {\n",
       "        vertical-align: middle;\n",
       "    }\n",
       "\n",
       "    .dataframe tbody tr th {\n",
       "        vertical-align: top;\n",
       "    }\n",
       "\n",
       "    .dataframe thead th {\n",
       "        text-align: right;\n",
       "    }\n",
       "</style>\n",
       "<table border=\"1\" class=\"dataframe\">\n",
       "  <thead>\n",
       "    <tr style=\"text-align: right;\">\n",
       "      <th></th>\n",
       "      <th>score</th>\n",
       "    </tr>\n",
       "  </thead>\n",
       "  <tbody>\n",
       "    <tr>\n",
       "      <th>count</th>\n",
       "      <td>17307.000000</td>\n",
       "    </tr>\n",
       "    <tr>\n",
       "      <th>mean</th>\n",
       "      <td>2.948402</td>\n",
       "    </tr>\n",
       "    <tr>\n",
       "      <th>std</th>\n",
       "      <td>1.044899</td>\n",
       "    </tr>\n",
       "    <tr>\n",
       "      <th>min</th>\n",
       "      <td>1.000000</td>\n",
       "    </tr>\n",
       "    <tr>\n",
       "      <th>25%</th>\n",
       "      <td>2.000000</td>\n",
       "    </tr>\n",
       "    <tr>\n",
       "      <th>50%</th>\n",
       "      <td>3.000000</td>\n",
       "    </tr>\n",
       "    <tr>\n",
       "      <th>75%</th>\n",
       "      <td>4.000000</td>\n",
       "    </tr>\n",
       "    <tr>\n",
       "      <th>max</th>\n",
       "      <td>6.000000</td>\n",
       "    </tr>\n",
       "  </tbody>\n",
       "</table>\n",
       "</div>"
      ],
      "text/plain": [
       "              score\n",
       "count  17307.000000\n",
       "mean       2.948402\n",
       "std        1.044899\n",
       "min        1.000000\n",
       "25%        2.000000\n",
       "50%        3.000000\n",
       "75%        4.000000\n",
       "max        6.000000"
      ]
     },
     "execution_count": 4,
     "metadata": {},
     "output_type": "execute_result"
    }
   ],
   "source": [
    "df.describe()"
   ]
  },
  {
   "cell_type": "code",
   "execution_count": 26,
   "metadata": {},
   "outputs": [],
   "source": [
    "X = df[[ 'full_text']]\n",
    "y = df['score']\n",
    "X_train, X_test, y_train, y_test = train_test_split(X, y, test_size=0.2, random_state=42)"
   ]
  },
  {
   "cell_type": "code",
   "execution_count": 52,
   "metadata": {},
   "outputs": [
    {
     "name": "stdout",
     "output_type": "stream",
     "text": [
      "0:\tlearn: 1.0171652\ttest: 1.0253392\tbest: 1.0253392 (0)\ttotal: 43.8ms\tremaining: 1m 27s\n",
      "100:\tlearn: 0.6396640\ttest: 0.6692399\tbest: 0.6692399 (100)\ttotal: 4.76s\tremaining: 1m 29s\n",
      "200:\tlearn: 0.5728308\ttest: 0.6374043\tbest: 0.6374043 (200)\ttotal: 9.34s\tremaining: 1m 23s\n",
      "300:\tlearn: 0.5289884\ttest: 0.6270924\tbest: 0.6270220 (298)\ttotal: 13.6s\tremaining: 1m 16s\n",
      "400:\tlearn: 0.4924228\ttest: 0.6225443\tbest: 0.6225443 (400)\ttotal: 19.3s\tremaining: 1m 16s\n",
      "500:\tlearn: 0.4618454\ttest: 0.6195590\tbest: 0.6195590 (500)\ttotal: 23.9s\tremaining: 1m 11s\n",
      "600:\tlearn: 0.4338957\ttest: 0.6173124\tbest: 0.6170754 (583)\ttotal: 28.3s\tremaining: 1m 5s\n",
      "700:\tlearn: 0.4095801\ttest: 0.6152746\tbest: 0.6152746 (700)\ttotal: 32.7s\tremaining: 1m\n",
      "800:\tlearn: 0.3869041\ttest: 0.6131098\tbest: 0.6131098 (800)\ttotal: 36.6s\tremaining: 54.8s\n",
      "900:\tlearn: 0.3664552\ttest: 0.6121349\tbest: 0.6121349 (900)\ttotal: 40.4s\tremaining: 49.3s\n",
      "1000:\tlearn: 0.3480409\ttest: 0.6114497\tbest: 0.6114497 (1000)\ttotal: 45.1s\tremaining: 45s\n",
      "1100:\tlearn: 0.3312031\ttest: 0.6106438\tbest: 0.6106438 (1100)\ttotal: 49.4s\tremaining: 40.3s\n",
      "1200:\tlearn: 0.3152815\ttest: 0.6104434\tbest: 0.6104434 (1200)\ttotal: 54.3s\tremaining: 36.1s\n",
      "1300:\tlearn: 0.3004906\ttest: 0.6099091\tbest: 0.6098273 (1296)\ttotal: 59.4s\tremaining: 31.9s\n",
      "1400:\tlearn: 0.2866824\ttest: 0.6100989\tbest: 0.6098273 (1296)\ttotal: 1m 4s\tremaining: 27.5s\n",
      "1500:\tlearn: 0.2734400\ttest: 0.6097723\tbest: 0.6097594 (1480)\ttotal: 1m 9s\tremaining: 23.1s\n",
      "1600:\tlearn: 0.2609425\ttest: 0.6092817\tbest: 0.6092779 (1598)\ttotal: 1m 15s\tremaining: 18.7s\n",
      "1700:\tlearn: 0.2494722\ttest: 0.6089228\tbest: 0.6088229 (1686)\ttotal: 1m 20s\tremaining: 14.2s\n",
      "1800:\tlearn: 0.2387714\ttest: 0.6086078\tbest: 0.6086078 (1800)\ttotal: 1m 27s\tremaining: 9.63s\n",
      "1900:\tlearn: 0.2284241\ttest: 0.6081692\tbest: 0.6081508 (1895)\ttotal: 1m 32s\tremaining: 4.81s\n",
      "1999:\tlearn: 0.2188356\ttest: 0.6080556\tbest: 0.6080556 (1999)\ttotal: 1m 38s\tremaining: 0us\n",
      "\n",
      "bestTest = 0.6080556309\n",
      "bestIteration = 1999\n",
      "\n"
     ]
    },
    {
     "data": {
      "text/plain": [
       "<catboost.core.CatBoostRegressor at 0x142ade8e0>"
      ]
     },
     "execution_count": 52,
     "metadata": {},
     "output_type": "execute_result"
    }
   ],
   "source": [
    "train_pool = Pool(\n",
    "    data=X_train,\n",
    "    label=y_train,\n",
    "    text_features=['full_text']\n",
    ")\n",
    "test_pool = Pool(\n",
    "    data=X_test,\n",
    "    label=y_test,\n",
    "    text_features=['full_text']\n",
    ")\n",
    "# Initialize and train the model\n",
    "model = CatBoostRegressor(\n",
    "    iterations=2000,\n",
    "    learning_rate=0.1,\n",
    "    depth=6,\n",
    "    eval_metric='RMSE',\n",
    "    verbose=100\n",
    ")\n",
    "\n",
    "model.fit(train_pool, eval_set=test_pool)\n",
    "\n"
   ]
  },
  {
   "cell_type": "code",
   "execution_count": 56,
   "metadata": {},
   "outputs": [
    {
     "data": {
      "text/plain": [
       "0.4560947429231658"
      ]
     },
     "execution_count": 56,
     "metadata": {},
     "output_type": "execute_result"
    }
   ],
   "source": [
    "\n",
    "preds_class = model.predict(test_pool)\n",
    "accuracy = accuracy_score(list(y_test), [int(a) for a in preds_class])\n",
    "# dft[\"score\"]  = preds_class\n",
    "# dft[[\"essay_id\", \"score\"]].to_csv(\"../data/submission.csv\", index=False)\n",
    "accuracy"
   ]
  },
  {
   "cell_type": "code",
   "execution_count": 24,
   "metadata": {},
   "outputs": [],
   "source": []
  },
  {
   "cell_type": "code",
   "execution_count": null,
   "metadata": {},
   "outputs": [],
   "source": []
  }
 ],
 "metadata": {
  "kernelspec": {
   "display_name": ".env",
   "language": "python",
   "name": "python3"
  },
  "language_info": {
   "codemirror_mode": {
    "name": "ipython",
    "version": 3
   },
   "file_extension": ".py",
   "mimetype": "text/x-python",
   "name": "python",
   "nbconvert_exporter": "python",
   "pygments_lexer": "ipython3",
   "version": "3.9.18"
  }
 },
 "nbformat": 4,
 "nbformat_minor": 2
}
