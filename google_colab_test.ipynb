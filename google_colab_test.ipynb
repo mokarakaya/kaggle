{
  "nbformat": 4,
  "nbformat_minor": 0,
  "metadata": {
    "colab": {
      "name": "google-colab-test.ipynb",
      "version": "0.3.2",
      "provenance": [],
      "include_colab_link": true
    },
    "kernelspec": {
      "name": "python3",
      "display_name": "Python 3"
    },
    "accelerator": "GPU"
  },
  "cells": [
    {
      "cell_type": "markdown",
      "metadata": {
        "id": "view-in-github",
        "colab_type": "text"
      },
      "source": [
        "<a href=\"https://colab.research.google.com/github/mokarakaya/kaggle/blob/master/google_colab_test.ipynb\" target=\"_parent\"><img src=\"https://colab.research.google.com/assets/colab-badge.svg\" alt=\"Open In Colab\"/></a>"
      ]
    },
    {
      "cell_type": "code",
      "metadata": {
        "id": "caml2V_vAci9",
        "colab_type": "code",
        "colab": {
          "base_uri": "https://localhost:8080/",
          "height": 35
        },
        "outputId": "0d2cc701-34e4-4cf2-d26d-f438e7cfc4d4"
      },
      "source": [
        "import numpy as np\n",
        "a = np.array = [2,3,4]\n",
        "print(np.average(a))\n"
      ],
      "execution_count": 2,
      "outputs": [
        {
          "output_type": "stream",
          "text": [
            "3.0\n"
          ],
          "name": "stdout"
        }
      ]
    },
    {
      "cell_type": "code",
      "metadata": {
        "id": "pq7HxOH9BT8u",
        "colab_type": "code",
        "colab": {
          "base_uri": "https://localhost:8080/",
          "height": 52
        },
        "outputId": "94307d55-a990-4f28-d11e-d11af2d6889d"
      },
      "source": [
        "import tensorflow as tf\n",
        "\n",
        "\n",
        "print(tf.test.is_gpu_available())\n",
        "print(tf.test.is_built_with_cuda())"
      ],
      "execution_count": 3,
      "outputs": [
        {
          "output_type": "stream",
          "text": [
            "True\n",
            "True\n"
          ],
          "name": "stdout"
        }
      ]
    },
    {
      "cell_type": "code",
      "metadata": {
        "id": "vLu10i_eE9xO",
        "colab_type": "code",
        "colab": {
          "base_uri": "https://localhost:8080/",
          "height": 709
        },
        "outputId": "a74e9b92-046b-4d77-9bec-1ca273eac670"
      },
      "source": [
        "pip install -U nvgpu"
      ],
      "execution_count": 4,
      "outputs": [
        {
          "output_type": "stream",
          "text": [
            "Collecting nvgpu\n",
            "  Downloading https://files.pythonhosted.org/packages/95/c0/5e4a87f6ace30f2f636a5ffca197484cffb063095a96424188241d171499/nvgpu-0.8.0-py2.py3-none-any.whl\n",
            "Collecting ansi2html (from nvgpu)\n",
            "  Downloading https://files.pythonhosted.org/packages/b7/f5/0d658908d70cb902609fbb39b9ce891b99e060fa06e98071d369056e346f/ansi2html-1.5.2.tar.gz\n",
            "Requirement already satisfied, skipping upgrade: psutil in /usr/local/lib/python3.6/dist-packages (from nvgpu) (5.4.8)\n",
            "Collecting flask-restful (from nvgpu)\n",
            "  Downloading https://files.pythonhosted.org/packages/17/44/6e490150ee443ca81d5f88b61bb4bbb133d44d75b0b716ebe92489508da4/Flask_RESTful-0.3.7-py2.py3-none-any.whl\n",
            "Requirement already satisfied, skipping upgrade: termcolor in /usr/local/lib/python3.6/dist-packages (from nvgpu) (1.1.0)\n",
            "Requirement already satisfied, skipping upgrade: tabulate in /usr/local/lib/python3.6/dist-packages (from nvgpu) (0.8.3)\n",
            "Requirement already satisfied, skipping upgrade: requests in /usr/local/lib/python3.6/dist-packages (from nvgpu) (2.21.0)\n",
            "Collecting pynvml; python_version >= \"3.6\" (from nvgpu)\n",
            "  Downloading https://files.pythonhosted.org/packages/b7/6c/0f292b95bd255bde728194e49c4ffcc308baf7c99cf80445741ffa70a50f/pynvml-8.0.1-py2.py3-none-any.whl\n",
            "Requirement already satisfied, skipping upgrade: pandas in /usr/local/lib/python3.6/dist-packages (from nvgpu) (0.24.2)\n",
            "Requirement already satisfied, skipping upgrade: six in /usr/local/lib/python3.6/dist-packages (from nvgpu) (1.12.0)\n",
            "Requirement already satisfied, skipping upgrade: flask in /usr/local/lib/python3.6/dist-packages (from nvgpu) (1.0.2)\n",
            "Collecting arrow (from nvgpu)\n",
            "  Downloading https://files.pythonhosted.org/packages/28/2f/1be1d6914409d27a3eefc621676a50951edafca30f74bd731c8fb5ecdc24/arrow-0.13.2-py2.py3-none-any.whl\n",
            "Requirement already satisfied, skipping upgrade: pytz in /usr/local/lib/python3.6/dist-packages (from flask-restful->nvgpu) (2018.9)\n",
            "Collecting aniso8601>=0.82 (from flask-restful->nvgpu)\n",
            "\u001b[?25l  Downloading https://files.pythonhosted.org/packages/85/58/1e804d6d53435b1b2241036056360575640b69a332e7ead086a04bd5ad95/aniso8601-6.0.0-py2.py3-none-any.whl (41kB)\n",
            "\u001b[K     |████████████████████████████████| 51kB 27.2MB/s \n",
            "\u001b[?25hRequirement already satisfied, skipping upgrade: urllib3<1.25,>=1.21.1 in /usr/local/lib/python3.6/dist-packages (from requests->nvgpu) (1.24.3)\n",
            "Requirement already satisfied, skipping upgrade: idna<2.9,>=2.5 in /usr/local/lib/python3.6/dist-packages (from requests->nvgpu) (2.8)\n",
            "Requirement already satisfied, skipping upgrade: certifi>=2017.4.17 in /usr/local/lib/python3.6/dist-packages (from requests->nvgpu) (2019.3.9)\n",
            "Requirement already satisfied, skipping upgrade: chardet<3.1.0,>=3.0.2 in /usr/local/lib/python3.6/dist-packages (from requests->nvgpu) (3.0.4)\n",
            "Requirement already satisfied, skipping upgrade: python-dateutil>=2.5.0 in /usr/local/lib/python3.6/dist-packages (from pandas->nvgpu) (2.5.3)\n",
            "Requirement already satisfied, skipping upgrade: numpy>=1.12.0 in /usr/local/lib/python3.6/dist-packages (from pandas->nvgpu) (1.16.3)\n",
            "Requirement already satisfied, skipping upgrade: Werkzeug>=0.14 in /usr/local/lib/python3.6/dist-packages (from flask->nvgpu) (0.15.3)\n",
            "Requirement already satisfied, skipping upgrade: click>=5.1 in /usr/local/lib/python3.6/dist-packages (from flask->nvgpu) (7.0)\n",
            "Requirement already satisfied, skipping upgrade: itsdangerous>=0.24 in /usr/local/lib/python3.6/dist-packages (from flask->nvgpu) (1.1.0)\n",
            "Requirement already satisfied, skipping upgrade: Jinja2>=2.10 in /usr/local/lib/python3.6/dist-packages (from flask->nvgpu) (2.10.1)\n",
            "Requirement already satisfied, skipping upgrade: MarkupSafe>=0.23 in /usr/local/lib/python3.6/dist-packages (from Jinja2>=2.10->flask->nvgpu) (1.1.1)\n",
            "Building wheels for collected packages: ansi2html\n",
            "  Building wheel for ansi2html (setup.py) ... \u001b[?25l\u001b[?25hdone\n",
            "  Stored in directory: /root/.cache/pip/wheels/f9/ea/e0/1ed3c3945ce073f930f3e5aa2b9bbadb03cd2efc8f8695cd61\n",
            "Successfully built ansi2html\n",
            "Installing collected packages: ansi2html, aniso8601, flask-restful, pynvml, arrow, nvgpu\n",
            "Successfully installed aniso8601-6.0.0 ansi2html-1.5.2 arrow-0.13.2 flask-restful-0.3.7 nvgpu-0.8.0 pynvml-8.0.1\n"
          ],
          "name": "stdout"
        }
      ]
    },
    {
      "cell_type": "code",
      "metadata": {
        "id": "rWUogmScE6uB",
        "colab_type": "code",
        "colab": {
          "base_uri": "https://localhost:8080/",
          "height": 141
        },
        "outputId": "7980ded0-2eac-4827-b910-d531a82242c0"
      },
      "source": [
        "import nvgpu\n",
        "\n",
        "print(nvgpu.available_gpus())\n",
        "nvgpu.gpu_info()"
      ],
      "execution_count": 7,
      "outputs": [
        {
          "output_type": "stream",
          "text": [
            "['0']\n"
          ],
          "name": "stdout"
        },
        {
          "output_type": "execute_result",
          "data": {
            "text/plain": [
              "[{'index': '0',\n",
              "  'mem_total': 15079,\n",
              "  'mem_used': 221,\n",
              "  'mem_used_percent': 1.4656144306651635,\n",
              "  'type': 'Tesla T4',\n",
              "  'uuid': 'GPU-1068fb3e-8656-ab39-237b-ee37b262f251'}]"
            ]
          },
          "metadata": {
            "tags": []
          },
          "execution_count": 7
        }
      ]
    }
  ]
}