{
 "cells": [
  {
   "cell_type": "code",
   "id": "initial_id",
   "metadata": {
    "collapsed": true,
    "ExecuteTime": {
     "end_time": "2025-03-14T21:14:15.545415Z",
     "start_time": "2025-03-14T21:13:54.952749Z"
    }
   },
   "source": [
    "import pytorch_lightning as pl\n",
    "import pandas as pd\n",
    "import torch\n",
    "from sklearn.compose import ColumnTransformer\n",
    "from sklearn.impute import SimpleImputer\n",
    "from sklearn.pipeline import Pipeline\n",
    "from sklearn.preprocessing import OneHotEncoder, LabelEncoder, OrdinalEncoder, FunctionTransformer, MinMaxScaler\n",
    "from torch.utils.data import Dataset, DataLoader\n",
    "import torch.nn as nn\n",
    "import torch.optim as optim\n",
    "from sklearn.metrics import mean_absolute_error, mean_squared_error"
   ],
   "outputs": [],
   "execution_count": 1
  },
  {
   "metadata": {
    "ExecuteTime": {
     "end_time": "2025-03-14T21:14:15.815774Z",
     "start_time": "2025-03-14T21:14:15.556424Z"
    }
   },
   "cell_type": "code",
   "source": [
    "df = pd.read_csv('data/train.csv')\n",
    "dfm = pd.read_csv('data/meal_info.csv')\n",
    "dfc = pd.read_csv('data/fulfilment_center_info.csv')\n",
    "df = pd.merge(df, dfm, on='meal_id', how='left')\n",
    "df = pd.merge(df, dfc, on='center_id', how='left')"
   ],
   "id": "2edcac6f53ecca9c",
   "outputs": [],
   "execution_count": 2
  },
  {
   "metadata": {
    "ExecuteTime": {
     "end_time": "2025-03-14T21:14:16.213310Z",
     "start_time": "2025-03-14T21:14:16.195182Z"
    }
   },
   "cell_type": "code",
   "source": "df.head()",
   "id": "2334632506a268b9",
   "outputs": [
    {
     "data": {
      "text/plain": [
       "        id  week  center_id  meal_id  checkout_price  base_price  \\\n",
       "0  1379560     1         55     1885          136.83      152.29   \n",
       "1  1466964     1         55     1993          136.83      135.83   \n",
       "2  1346989     1         55     2539          134.86      135.86   \n",
       "3  1338232     1         55     2139          339.50      437.53   \n",
       "4  1448490     1         55     2631          243.50      242.50   \n",
       "\n",
       "   emailer_for_promotion  homepage_featured  num_orders   category cuisine  \\\n",
       "0                      0                  0         177  Beverages    Thai   \n",
       "1                      0                  0         270  Beverages    Thai   \n",
       "2                      0                  0         189  Beverages    Thai   \n",
       "3                      0                  0          54  Beverages  Indian   \n",
       "4                      0                  0          40  Beverages  Indian   \n",
       "\n",
       "   city_code  region_code center_type  op_area  \n",
       "0        647           56      TYPE_C      2.0  \n",
       "1        647           56      TYPE_C      2.0  \n",
       "2        647           56      TYPE_C      2.0  \n",
       "3        647           56      TYPE_C      2.0  \n",
       "4        647           56      TYPE_C      2.0  "
      ],
      "text/html": [
       "<div>\n",
       "<style scoped>\n",
       "    .dataframe tbody tr th:only-of-type {\n",
       "        vertical-align: middle;\n",
       "    }\n",
       "\n",
       "    .dataframe tbody tr th {\n",
       "        vertical-align: top;\n",
       "    }\n",
       "\n",
       "    .dataframe thead th {\n",
       "        text-align: right;\n",
       "    }\n",
       "</style>\n",
       "<table border=\"1\" class=\"dataframe\">\n",
       "  <thead>\n",
       "    <tr style=\"text-align: right;\">\n",
       "      <th></th>\n",
       "      <th>id</th>\n",
       "      <th>week</th>\n",
       "      <th>center_id</th>\n",
       "      <th>meal_id</th>\n",
       "      <th>checkout_price</th>\n",
       "      <th>base_price</th>\n",
       "      <th>emailer_for_promotion</th>\n",
       "      <th>homepage_featured</th>\n",
       "      <th>num_orders</th>\n",
       "      <th>category</th>\n",
       "      <th>cuisine</th>\n",
       "      <th>city_code</th>\n",
       "      <th>region_code</th>\n",
       "      <th>center_type</th>\n",
       "      <th>op_area</th>\n",
       "    </tr>\n",
       "  </thead>\n",
       "  <tbody>\n",
       "    <tr>\n",
       "      <th>0</th>\n",
       "      <td>1379560</td>\n",
       "      <td>1</td>\n",
       "      <td>55</td>\n",
       "      <td>1885</td>\n",
       "      <td>136.83</td>\n",
       "      <td>152.29</td>\n",
       "      <td>0</td>\n",
       "      <td>0</td>\n",
       "      <td>177</td>\n",
       "      <td>Beverages</td>\n",
       "      <td>Thai</td>\n",
       "      <td>647</td>\n",
       "      <td>56</td>\n",
       "      <td>TYPE_C</td>\n",
       "      <td>2.0</td>\n",
       "    </tr>\n",
       "    <tr>\n",
       "      <th>1</th>\n",
       "      <td>1466964</td>\n",
       "      <td>1</td>\n",
       "      <td>55</td>\n",
       "      <td>1993</td>\n",
       "      <td>136.83</td>\n",
       "      <td>135.83</td>\n",
       "      <td>0</td>\n",
       "      <td>0</td>\n",
       "      <td>270</td>\n",
       "      <td>Beverages</td>\n",
       "      <td>Thai</td>\n",
       "      <td>647</td>\n",
       "      <td>56</td>\n",
       "      <td>TYPE_C</td>\n",
       "      <td>2.0</td>\n",
       "    </tr>\n",
       "    <tr>\n",
       "      <th>2</th>\n",
       "      <td>1346989</td>\n",
       "      <td>1</td>\n",
       "      <td>55</td>\n",
       "      <td>2539</td>\n",
       "      <td>134.86</td>\n",
       "      <td>135.86</td>\n",
       "      <td>0</td>\n",
       "      <td>0</td>\n",
       "      <td>189</td>\n",
       "      <td>Beverages</td>\n",
       "      <td>Thai</td>\n",
       "      <td>647</td>\n",
       "      <td>56</td>\n",
       "      <td>TYPE_C</td>\n",
       "      <td>2.0</td>\n",
       "    </tr>\n",
       "    <tr>\n",
       "      <th>3</th>\n",
       "      <td>1338232</td>\n",
       "      <td>1</td>\n",
       "      <td>55</td>\n",
       "      <td>2139</td>\n",
       "      <td>339.50</td>\n",
       "      <td>437.53</td>\n",
       "      <td>0</td>\n",
       "      <td>0</td>\n",
       "      <td>54</td>\n",
       "      <td>Beverages</td>\n",
       "      <td>Indian</td>\n",
       "      <td>647</td>\n",
       "      <td>56</td>\n",
       "      <td>TYPE_C</td>\n",
       "      <td>2.0</td>\n",
       "    </tr>\n",
       "    <tr>\n",
       "      <th>4</th>\n",
       "      <td>1448490</td>\n",
       "      <td>1</td>\n",
       "      <td>55</td>\n",
       "      <td>2631</td>\n",
       "      <td>243.50</td>\n",
       "      <td>242.50</td>\n",
       "      <td>0</td>\n",
       "      <td>0</td>\n",
       "      <td>40</td>\n",
       "      <td>Beverages</td>\n",
       "      <td>Indian</td>\n",
       "      <td>647</td>\n",
       "      <td>56</td>\n",
       "      <td>TYPE_C</td>\n",
       "      <td>2.0</td>\n",
       "    </tr>\n",
       "  </tbody>\n",
       "</table>\n",
       "</div>"
      ]
     },
     "execution_count": 3,
     "metadata": {},
     "output_type": "execute_result"
    }
   ],
   "execution_count": 3
  },
  {
   "metadata": {
    "ExecuteTime": {
     "end_time": "2025-03-14T21:14:16.446578Z",
     "start_time": "2025-03-14T21:14:16.299817Z"
    }
   },
   "cell_type": "code",
   "source": "df.describe().T",
   "id": "c2afeaf97933f1df",
   "outputs": [
    {
     "data": {
      "text/plain": [
       "                          count          mean            std         min  \\\n",
       "id                     456548.0  1.250096e+06  144354.822378  1000000.00   \n",
       "week                   456548.0  7.476877e+01      41.524956        1.00   \n",
       "center_id              456548.0  8.210580e+01      45.975046       10.00   \n",
       "meal_id                456548.0  2.024337e+03     547.420920     1062.00   \n",
       "checkout_price         456548.0  3.322389e+02     152.939723        2.97   \n",
       "base_price             456548.0  3.541566e+02     160.715914       55.35   \n",
       "emailer_for_promotion  456548.0  8.115247e-02       0.273069        0.00   \n",
       "homepage_featured      456548.0  1.091999e-01       0.311890        0.00   \n",
       "num_orders             456548.0  2.618728e+02     395.922798       13.00   \n",
       "city_code              456548.0  6.015534e+02      66.195914      456.00   \n",
       "region_code            456548.0  5.661457e+01      17.641306       23.00   \n",
       "op_area                456548.0  4.083590e+00       1.091686        0.90   \n",
       "\n",
       "                              25%         50%         75%         max  \n",
       "id                     1124998.75  1250183.50  1375140.25  1499999.00  \n",
       "week                        39.00       76.00      111.00      145.00  \n",
       "center_id                   43.00       76.00      110.00      186.00  \n",
       "meal_id                   1558.00     1993.00     2539.00     2956.00  \n",
       "checkout_price             228.95      296.82      445.23      866.27  \n",
       "base_price                 243.50      310.46      458.87      866.27  \n",
       "emailer_for_promotion        0.00        0.00        0.00        1.00  \n",
       "homepage_featured            0.00        0.00        0.00        1.00  \n",
       "num_orders                  54.00      136.00      324.00    24299.00  \n",
       "city_code                  553.00      596.00      651.00      713.00  \n",
       "region_code                 34.00       56.00       77.00       93.00  \n",
       "op_area                      3.60        4.00        4.50        7.00  "
      ],
      "text/html": [
       "<div>\n",
       "<style scoped>\n",
       "    .dataframe tbody tr th:only-of-type {\n",
       "        vertical-align: middle;\n",
       "    }\n",
       "\n",
       "    .dataframe tbody tr th {\n",
       "        vertical-align: top;\n",
       "    }\n",
       "\n",
       "    .dataframe thead th {\n",
       "        text-align: right;\n",
       "    }\n",
       "</style>\n",
       "<table border=\"1\" class=\"dataframe\">\n",
       "  <thead>\n",
       "    <tr style=\"text-align: right;\">\n",
       "      <th></th>\n",
       "      <th>count</th>\n",
       "      <th>mean</th>\n",
       "      <th>std</th>\n",
       "      <th>min</th>\n",
       "      <th>25%</th>\n",
       "      <th>50%</th>\n",
       "      <th>75%</th>\n",
       "      <th>max</th>\n",
       "    </tr>\n",
       "  </thead>\n",
       "  <tbody>\n",
       "    <tr>\n",
       "      <th>id</th>\n",
       "      <td>456548.0</td>\n",
       "      <td>1.250096e+06</td>\n",
       "      <td>144354.822378</td>\n",
       "      <td>1000000.00</td>\n",
       "      <td>1124998.75</td>\n",
       "      <td>1250183.50</td>\n",
       "      <td>1375140.25</td>\n",
       "      <td>1499999.00</td>\n",
       "    </tr>\n",
       "    <tr>\n",
       "      <th>week</th>\n",
       "      <td>456548.0</td>\n",
       "      <td>7.476877e+01</td>\n",
       "      <td>41.524956</td>\n",
       "      <td>1.00</td>\n",
       "      <td>39.00</td>\n",
       "      <td>76.00</td>\n",
       "      <td>111.00</td>\n",
       "      <td>145.00</td>\n",
       "    </tr>\n",
       "    <tr>\n",
       "      <th>center_id</th>\n",
       "      <td>456548.0</td>\n",
       "      <td>8.210580e+01</td>\n",
       "      <td>45.975046</td>\n",
       "      <td>10.00</td>\n",
       "      <td>43.00</td>\n",
       "      <td>76.00</td>\n",
       "      <td>110.00</td>\n",
       "      <td>186.00</td>\n",
       "    </tr>\n",
       "    <tr>\n",
       "      <th>meal_id</th>\n",
       "      <td>456548.0</td>\n",
       "      <td>2.024337e+03</td>\n",
       "      <td>547.420920</td>\n",
       "      <td>1062.00</td>\n",
       "      <td>1558.00</td>\n",
       "      <td>1993.00</td>\n",
       "      <td>2539.00</td>\n",
       "      <td>2956.00</td>\n",
       "    </tr>\n",
       "    <tr>\n",
       "      <th>checkout_price</th>\n",
       "      <td>456548.0</td>\n",
       "      <td>3.322389e+02</td>\n",
       "      <td>152.939723</td>\n",
       "      <td>2.97</td>\n",
       "      <td>228.95</td>\n",
       "      <td>296.82</td>\n",
       "      <td>445.23</td>\n",
       "      <td>866.27</td>\n",
       "    </tr>\n",
       "    <tr>\n",
       "      <th>base_price</th>\n",
       "      <td>456548.0</td>\n",
       "      <td>3.541566e+02</td>\n",
       "      <td>160.715914</td>\n",
       "      <td>55.35</td>\n",
       "      <td>243.50</td>\n",
       "      <td>310.46</td>\n",
       "      <td>458.87</td>\n",
       "      <td>866.27</td>\n",
       "    </tr>\n",
       "    <tr>\n",
       "      <th>emailer_for_promotion</th>\n",
       "      <td>456548.0</td>\n",
       "      <td>8.115247e-02</td>\n",
       "      <td>0.273069</td>\n",
       "      <td>0.00</td>\n",
       "      <td>0.00</td>\n",
       "      <td>0.00</td>\n",
       "      <td>0.00</td>\n",
       "      <td>1.00</td>\n",
       "    </tr>\n",
       "    <tr>\n",
       "      <th>homepage_featured</th>\n",
       "      <td>456548.0</td>\n",
       "      <td>1.091999e-01</td>\n",
       "      <td>0.311890</td>\n",
       "      <td>0.00</td>\n",
       "      <td>0.00</td>\n",
       "      <td>0.00</td>\n",
       "      <td>0.00</td>\n",
       "      <td>1.00</td>\n",
       "    </tr>\n",
       "    <tr>\n",
       "      <th>num_orders</th>\n",
       "      <td>456548.0</td>\n",
       "      <td>2.618728e+02</td>\n",
       "      <td>395.922798</td>\n",
       "      <td>13.00</td>\n",
       "      <td>54.00</td>\n",
       "      <td>136.00</td>\n",
       "      <td>324.00</td>\n",
       "      <td>24299.00</td>\n",
       "    </tr>\n",
       "    <tr>\n",
       "      <th>city_code</th>\n",
       "      <td>456548.0</td>\n",
       "      <td>6.015534e+02</td>\n",
       "      <td>66.195914</td>\n",
       "      <td>456.00</td>\n",
       "      <td>553.00</td>\n",
       "      <td>596.00</td>\n",
       "      <td>651.00</td>\n",
       "      <td>713.00</td>\n",
       "    </tr>\n",
       "    <tr>\n",
       "      <th>region_code</th>\n",
       "      <td>456548.0</td>\n",
       "      <td>5.661457e+01</td>\n",
       "      <td>17.641306</td>\n",
       "      <td>23.00</td>\n",
       "      <td>34.00</td>\n",
       "      <td>56.00</td>\n",
       "      <td>77.00</td>\n",
       "      <td>93.00</td>\n",
       "    </tr>\n",
       "    <tr>\n",
       "      <th>op_area</th>\n",
       "      <td>456548.0</td>\n",
       "      <td>4.083590e+00</td>\n",
       "      <td>1.091686</td>\n",
       "      <td>0.90</td>\n",
       "      <td>3.60</td>\n",
       "      <td>4.00</td>\n",
       "      <td>4.50</td>\n",
       "      <td>7.00</td>\n",
       "    </tr>\n",
       "  </tbody>\n",
       "</table>\n",
       "</div>"
      ]
     },
     "execution_count": 4,
     "metadata": {},
     "output_type": "execute_result"
    }
   ],
   "execution_count": 4
  },
  {
   "metadata": {
    "ExecuteTime": {
     "end_time": "2025-03-14T21:14:16.567378Z",
     "start_time": "2025-03-14T21:14:16.493618Z"
    }
   },
   "cell_type": "code",
   "source": [
    "df[\"category\"] = df[\"category\"].astype(\"category\")\n",
    "columns_to_drop = [\"num_orders\", \"id\"]\n",
    "test_start_week = df[\"week\"].max() * 0.8\n",
    "validation_start_week = df[\"week\"].max() * 0.6\n",
    "df_train = df[df[\"week\"] < validation_start_week]\n",
    "df_validation = df[(df[\"week\"] >= validation_start_week) & (df[\"week\"] < test_start_week)]\n",
    "df_test = df[df[\"week\"] >= test_start_week]\n",
    "X_train = df_train.drop(columns=columns_to_drop)\n",
    "y_train = df_train[\"num_orders\"]\n",
    "X_validation = df_validation.drop(columns=columns_to_drop)\n",
    "y_validation = df_validation[\"num_orders\"]\n",
    "X_test = df_test.drop(columns=columns_to_drop)\n",
    "y_test = df_test[\"num_orders\"]"
   ],
   "id": "ad7b6e450ccddf21",
   "outputs": [],
   "execution_count": 5
  },
  {
   "metadata": {
    "ExecuteTime": {
     "end_time": "2025-03-14T21:14:16.689631Z",
     "start_time": "2025-03-14T21:14:16.660095Z"
    }
   },
   "cell_type": "code",
   "source": "X_train.info()",
   "id": "6c26a84d32251593",
   "outputs": [
    {
     "name": "stdout",
     "output_type": "stream",
     "text": [
      "<class 'pandas.core.frame.DataFrame'>\n",
      "Index: 263590 entries, 0 to 263589\n",
      "Data columns (total 13 columns):\n",
      " #   Column                 Non-Null Count   Dtype   \n",
      "---  ------                 --------------   -----   \n",
      " 0   week                   263590 non-null  int64   \n",
      " 1   center_id              263590 non-null  int64   \n",
      " 2   meal_id                263590 non-null  int64   \n",
      " 3   checkout_price         263590 non-null  float64 \n",
      " 4   base_price             263590 non-null  float64 \n",
      " 5   emailer_for_promotion  263590 non-null  int64   \n",
      " 6   homepage_featured      263590 non-null  int64   \n",
      " 7   category               263590 non-null  category\n",
      " 8   cuisine                263590 non-null  object  \n",
      " 9   city_code              263590 non-null  int64   \n",
      " 10  region_code            263590 non-null  int64   \n",
      " 11  center_type            263590 non-null  object  \n",
      " 12  op_area                263590 non-null  float64 \n",
      "dtypes: category(1), float64(3), int64(7), object(2)\n",
      "memory usage: 26.4+ MB\n"
     ]
    }
   ],
   "execution_count": 6
  },
  {
   "metadata": {
    "ExecuteTime": {
     "end_time": "2025-03-14T21:14:16.872434Z",
     "start_time": "2025-03-14T21:14:16.786831Z"
    }
   },
   "cell_type": "code",
   "source": "X_train.describe().T",
   "id": "a828eb5fb76ab789",
   "outputs": [
    {
     "data": {
      "text/plain": [
       "                          count         mean         std      min      25%  \\\n",
       "week                   263590.0    44.542365   24.750090     1.00    23.00   \n",
       "center_id              263590.0    82.191878   45.970215    10.00    43.00   \n",
       "meal_id                263590.0  2018.845719  546.804240  1062.00  1543.00   \n",
       "checkout_price         263590.0   329.775977  152.226226     2.97   229.89   \n",
       "base_price             263590.0   350.881830  157.041646    55.35   243.50   \n",
       "emailer_for_promotion  263590.0     0.080318    0.271785     0.00     0.00   \n",
       "homepage_featured      263590.0     0.108984    0.311619     0.00     0.00   \n",
       "city_code              263590.0   601.524018   66.269349   456.00   553.00   \n",
       "region_code            263590.0    56.577393   17.627253    23.00    34.00   \n",
       "op_area                263590.0     4.082859    1.089724     0.90     3.60   \n",
       "\n",
       "                           50%      75%      max  \n",
       "week                     45.00    66.00    86.00  \n",
       "center_id                76.00   110.00   186.00  \n",
       "meal_id                1971.00  2539.00  2956.00  \n",
       "checkout_price          291.06   438.50   738.23  \n",
       "base_price              309.43   455.93   738.23  \n",
       "emailer_for_promotion     0.00     0.00     1.00  \n",
       "homepage_featured         0.00     0.00     1.00  \n",
       "city_code               596.00   651.00   713.00  \n",
       "region_code              56.00    77.00    93.00  \n",
       "op_area                   4.00     4.50     7.00  "
      ],
      "text/html": [
       "<div>\n",
       "<style scoped>\n",
       "    .dataframe tbody tr th:only-of-type {\n",
       "        vertical-align: middle;\n",
       "    }\n",
       "\n",
       "    .dataframe tbody tr th {\n",
       "        vertical-align: top;\n",
       "    }\n",
       "\n",
       "    .dataframe thead th {\n",
       "        text-align: right;\n",
       "    }\n",
       "</style>\n",
       "<table border=\"1\" class=\"dataframe\">\n",
       "  <thead>\n",
       "    <tr style=\"text-align: right;\">\n",
       "      <th></th>\n",
       "      <th>count</th>\n",
       "      <th>mean</th>\n",
       "      <th>std</th>\n",
       "      <th>min</th>\n",
       "      <th>25%</th>\n",
       "      <th>50%</th>\n",
       "      <th>75%</th>\n",
       "      <th>max</th>\n",
       "    </tr>\n",
       "  </thead>\n",
       "  <tbody>\n",
       "    <tr>\n",
       "      <th>week</th>\n",
       "      <td>263590.0</td>\n",
       "      <td>44.542365</td>\n",
       "      <td>24.750090</td>\n",
       "      <td>1.00</td>\n",
       "      <td>23.00</td>\n",
       "      <td>45.00</td>\n",
       "      <td>66.00</td>\n",
       "      <td>86.00</td>\n",
       "    </tr>\n",
       "    <tr>\n",
       "      <th>center_id</th>\n",
       "      <td>263590.0</td>\n",
       "      <td>82.191878</td>\n",
       "      <td>45.970215</td>\n",
       "      <td>10.00</td>\n",
       "      <td>43.00</td>\n",
       "      <td>76.00</td>\n",
       "      <td>110.00</td>\n",
       "      <td>186.00</td>\n",
       "    </tr>\n",
       "    <tr>\n",
       "      <th>meal_id</th>\n",
       "      <td>263590.0</td>\n",
       "      <td>2018.845719</td>\n",
       "      <td>546.804240</td>\n",
       "      <td>1062.00</td>\n",
       "      <td>1543.00</td>\n",
       "      <td>1971.00</td>\n",
       "      <td>2539.00</td>\n",
       "      <td>2956.00</td>\n",
       "    </tr>\n",
       "    <tr>\n",
       "      <th>checkout_price</th>\n",
       "      <td>263590.0</td>\n",
       "      <td>329.775977</td>\n",
       "      <td>152.226226</td>\n",
       "      <td>2.97</td>\n",
       "      <td>229.89</td>\n",
       "      <td>291.06</td>\n",
       "      <td>438.50</td>\n",
       "      <td>738.23</td>\n",
       "    </tr>\n",
       "    <tr>\n",
       "      <th>base_price</th>\n",
       "      <td>263590.0</td>\n",
       "      <td>350.881830</td>\n",
       "      <td>157.041646</td>\n",
       "      <td>55.35</td>\n",
       "      <td>243.50</td>\n",
       "      <td>309.43</td>\n",
       "      <td>455.93</td>\n",
       "      <td>738.23</td>\n",
       "    </tr>\n",
       "    <tr>\n",
       "      <th>emailer_for_promotion</th>\n",
       "      <td>263590.0</td>\n",
       "      <td>0.080318</td>\n",
       "      <td>0.271785</td>\n",
       "      <td>0.00</td>\n",
       "      <td>0.00</td>\n",
       "      <td>0.00</td>\n",
       "      <td>0.00</td>\n",
       "      <td>1.00</td>\n",
       "    </tr>\n",
       "    <tr>\n",
       "      <th>homepage_featured</th>\n",
       "      <td>263590.0</td>\n",
       "      <td>0.108984</td>\n",
       "      <td>0.311619</td>\n",
       "      <td>0.00</td>\n",
       "      <td>0.00</td>\n",
       "      <td>0.00</td>\n",
       "      <td>0.00</td>\n",
       "      <td>1.00</td>\n",
       "    </tr>\n",
       "    <tr>\n",
       "      <th>city_code</th>\n",
       "      <td>263590.0</td>\n",
       "      <td>601.524018</td>\n",
       "      <td>66.269349</td>\n",
       "      <td>456.00</td>\n",
       "      <td>553.00</td>\n",
       "      <td>596.00</td>\n",
       "      <td>651.00</td>\n",
       "      <td>713.00</td>\n",
       "    </tr>\n",
       "    <tr>\n",
       "      <th>region_code</th>\n",
       "      <td>263590.0</td>\n",
       "      <td>56.577393</td>\n",
       "      <td>17.627253</td>\n",
       "      <td>23.00</td>\n",
       "      <td>34.00</td>\n",
       "      <td>56.00</td>\n",
       "      <td>77.00</td>\n",
       "      <td>93.00</td>\n",
       "    </tr>\n",
       "    <tr>\n",
       "      <th>op_area</th>\n",
       "      <td>263590.0</td>\n",
       "      <td>4.082859</td>\n",
       "      <td>1.089724</td>\n",
       "      <td>0.90</td>\n",
       "      <td>3.60</td>\n",
       "      <td>4.00</td>\n",
       "      <td>4.50</td>\n",
       "      <td>7.00</td>\n",
       "    </tr>\n",
       "  </tbody>\n",
       "</table>\n",
       "</div>"
      ]
     },
     "execution_count": 7,
     "metadata": {},
     "output_type": "execute_result"
    }
   ],
   "execution_count": 7
  },
  {
   "metadata": {
    "ExecuteTime": {
     "end_time": "2025-03-14T21:14:17.011104Z",
     "start_time": "2025-03-14T21:14:16.967791Z"
    }
   },
   "cell_type": "code",
   "source": "X_train.nunique()",
   "id": "a797a0cfdf0846ec",
   "outputs": [
    {
     "data": {
      "text/plain": [
       "week                       86\n",
       "center_id                  77\n",
       "meal_id                    51\n",
       "checkout_price           1892\n",
       "base_price               1745\n",
       "emailer_for_promotion       2\n",
       "homepage_featured           2\n",
       "category                   14\n",
       "cuisine                     4\n",
       "city_code                  51\n",
       "region_code                 8\n",
       "center_type                 3\n",
       "op_area                    30\n",
       "dtype: int64"
      ]
     },
     "execution_count": 8,
     "metadata": {},
     "output_type": "execute_result"
    }
   ],
   "execution_count": 8
  },
  {
   "metadata": {
    "ExecuteTime": {
     "end_time": "2025-03-14T21:14:17.477545Z",
     "start_time": "2025-03-14T21:14:17.214326Z"
    }
   },
   "cell_type": "code",
   "source": [
    "# df = pd.DataFrame({\n",
    "#     'Color': ['Red', 'Blue', 'Green', 'Blue', 'Red'],  # Categorical\n",
    "#     'Size': ['S', 'M', 'L', 'S', 'L'],  # Ordinal\n",
    "#     \"Category\": ['A', 'B', 'A', 'B', 'A'],  # Categorical\n",
    "#     'Price': [10, 20, 15, 25, 30],  # Continuous\n",
    "#     'Week': [10, 20, 15, 25, 30]  # Continuous\n",
    "# })\n",
    "# ordinal_columns = [\"Category\"]\n",
    "# one_hot_columns = [\"Size\", \"Color\"]\n",
    "# numerical_columns = [\"Price\"]\n",
    "# unchanged_columns = [\"Week\"]\n",
    "\n",
    "ordinal_columns = [\"center_id\", \"meal_id\", \"category\", \"city_code\", \"region_code\"]\n",
    "one_hot_columns = [\"cuisine\", \"center_type\"]\n",
    "numerical_columns = [\"checkout_price\", \"base_price\", \"op_area\"]\n",
    "unchanged_columns = [\"week\", \"emailer_for_promotion\", \"homepage_featured\"]\n",
    "\n",
    "\n",
    "def transform_data(df, pipeline):\n",
    "    if not pipeline:\n",
    "        ordinal_encoder_pipeline = Pipeline(\n",
    "            steps=[\n",
    "                (\"ordinal_encoder\", OrdinalEncoder(handle_unknown='use_encoded_value', unknown_value=-1)),\n",
    "                (\"functional_transformer\", FunctionTransformer(lambda df: df + 1)),\n",
    "            ]\n",
    "        )\n",
    "        one_hot_encoder_pipeline = Pipeline(\n",
    "            steps=[\n",
    "                (\"one_hot_encoder\", OneHotEncoder(handle_unknown=\"ignore\", sparse_output=False))\n",
    "            ]\n",
    "        )\n",
    "        numerical_encoder_pipeline = Pipeline(\n",
    "            steps=[\n",
    "                (\"simple_imputer\",  SimpleImputer(strategy='constant', fill_value=0)),\n",
    "                (\"min_max_scaler\",  MinMaxScaler())\n",
    "            ]\n",
    "        )\n",
    "        preprocessor = ColumnTransformer(\n",
    "            transformers=[\n",
    "                ('ordinal_encoder_pipeline', ordinal_encoder_pipeline, ordinal_columns),\n",
    "                (\"one_hot_encoder_pipeline\", one_hot_encoder_pipeline, one_hot_columns),\n",
    "                (\"numerical_encoder_pipeline\", numerical_encoder_pipeline, numerical_columns)\n",
    "            ], remainder='passthrough')\n",
    "        pipeline = Pipeline(steps = [(\"preprocessor\", preprocessor)])\n",
    "        encoded = pipeline.fit_transform(df)\n",
    "    else:\n",
    "        encoded = pipeline.transform(df)\n",
    "    new_one_hot_columns = list(pipeline.named_steps[\"preprocessor\"].named_transformers_[\"one_hot_encoder_pipeline\"].get_feature_names_out(one_hot_columns))\n",
    "    new_column_names = ordinal_columns + new_one_hot_columns + numerical_columns + unchanged_columns\n",
    "    return pd.DataFrame(encoded, columns=new_column_names), pipeline\n",
    "X_train, pipeline = transform_data(X_train, None)"
   ],
   "id": "fd5e372d5882de88",
   "outputs": [],
   "execution_count": 9
  },
  {
   "metadata": {
    "ExecuteTime": {
     "end_time": "2025-03-14T21:14:17.551197Z",
     "start_time": "2025-03-14T21:14:17.548646Z"
    }
   },
   "cell_type": "code",
   "source": "",
   "id": "c6e64af5e283873d",
   "outputs": [],
   "execution_count": null
  },
  {
   "metadata": {
    "ExecuteTime": {
     "end_time": "2025-03-14T21:14:17.762279Z",
     "start_time": "2025-03-14T21:14:17.660330Z"
    }
   },
   "cell_type": "code",
   "source": [
    "X_test, pipeline = transform_data(X_test, pipeline)\n",
    "X_validation, pipeline = transform_data(X_validation, pipeline)"
   ],
   "id": "638eada53778943a",
   "outputs": [],
   "execution_count": 10
  },
  {
   "metadata": {
    "ExecuteTime": {
     "end_time": "2025-03-14T21:14:17.803567Z",
     "start_time": "2025-03-14T21:14:17.767009Z"
    }
   },
   "cell_type": "code",
   "source": [
    "X_train[ordinal_columns] = X_train[ordinal_columns].astype(\"int\")\n",
    "X_test[ordinal_columns] = X_test[ordinal_columns].astype(\"int\")\n",
    "X_validation[ordinal_columns] = X_validation[ordinal_columns].astype(\"int\")\n",
    "categorical_cardinalities = [X_train[column].max() for column in ordinal_columns]\n",
    "X_train_numeric = X_train.drop(columns=ordinal_columns)\n",
    "X_train_embedding = X_train[ordinal_columns]\n",
    "\n",
    "X_test_numeric = X_test.drop(columns=ordinal_columns)\n",
    "X_test_embedding = X_test[ordinal_columns]\n",
    "X_validation_numeric = X_validation.drop(columns=ordinal_columns)\n",
    "X_validation_embedding = X_validation[ordinal_columns]"
   ],
   "id": "d1edc227b2bb61f5",
   "outputs": [],
   "execution_count": 11
  },
  {
   "metadata": {
    "ExecuteTime": {
     "end_time": "2025-03-14T21:14:19.559156Z",
     "start_time": "2025-03-14T21:14:19.448583Z"
    }
   },
   "cell_type": "code",
   "source": [
    "device = torch.device(\"mps\" if torch.backends.mps.is_available() else \"cpu\")\n",
    "print(device)\n",
    "class CustomDataset(Dataset):\n",
    "    def __init__(self, X_numeric, X_embedding, y):\n",
    "        self.X_numeric = torch.tensor(X_numeric.values, dtype=torch.float32).to(device)\n",
    "        self.X_embedding = torch.tensor(X_embedding.values, dtype=torch.int).to(device)\n",
    "        self.y = torch.tensor(y.values, dtype=torch.float32).view(-1, 1).to(device)\n",
    "\n",
    "    def __len__(self):\n",
    "        return len(self.X_numeric)\n",
    "\n",
    "    def __getitem__(self, idx):\n",
    "        return self.X_numeric[idx], self.X_embedding[idx],  self.y[idx]\n",
    "train_dataset = CustomDataset(X_train_numeric, X_train_embedding,  y_train)\n",
    "validation_dataset = CustomDataset(X_validation_numeric, X_validation_embedding, y_validation)\n",
    "test_dataset = CustomDataset(X_test_numeric, X_test_embedding, y_test)\n",
    "\n",
    "train_loader = DataLoader(train_dataset, batch_size=64, shuffle=True)\n",
    "validation_loader = DataLoader(validation_dataset, batch_size=64, shuffle=False)\n",
    "test_loader = DataLoader(test_dataset, batch_size=64, shuffle=False)"
   ],
   "id": "f30d43a7c608dc17",
   "outputs": [
    {
     "name": "stdout",
     "output_type": "stream",
     "text": [
      "mps\n"
     ]
    }
   ],
   "execution_count": 12
  },
  {
   "metadata": {
    "ExecuteTime": {
     "end_time": "2025-03-14T21:33:48.988811Z",
     "start_time": "2025-03-14T21:29:53.672011Z"
    }
   },
   "cell_type": "code",
   "source": [
    "import torch.nn as nn\n",
    "import torch.optim as optim\n",
    "\n",
    "class RegressionModel(pl.LightningModule):\n",
    "    def __init__(self, numerical_input_dim, embedding_cardinality, embedding_dim=4):\n",
    "        super().__init__()\n",
    "        self.embeddings = nn.ModuleList([\n",
    "            nn.Embedding(num_categories, embedding_dim)\n",
    "            for num_categories in embedding_cardinality\n",
    "        ])\n",
    "        total_embedding_size = len(embedding_cardinality) * embedding_dim\n",
    "        self.model = nn.Sequential(\n",
    "            nn.Linear(numerical_input_dim + total_embedding_size, 128),\n",
    "            nn.ReLU(),\n",
    "            nn.Linear(128, 16),\n",
    "            nn.ReLU(),\n",
    "            nn.Linear(16, 1)  # Regression output\n",
    "        )\n",
    "        self.loss_fn = nn.MSELoss()\n",
    "\n",
    "    def forward(self, numerical, categorical):\n",
    "        embedded = [embed_layer(categorical[:, i]) for i, embed_layer in enumerate(self.embeddings)]\n",
    "        embedded = torch.cat(embedded, dim=1)\n",
    "        x = torch.cat([embedded, numerical], dim=1)\n",
    "        return self.model(x)\n",
    "\n",
    "    def training_step(self, batch, batch_idx):\n",
    "        numerical, categorical,  y = batch\n",
    "        y_pred = self(numerical, categorical)\n",
    "        loss = self.loss_fn(y_pred, y)\n",
    "        self.log(\"train_loss\", loss, prog_bar=True, on_epoch=True, on_step=False)\n",
    "        return loss\n",
    "\n",
    "    def validation_step(self, batch, batch_idx):\n",
    "        numerical, categorical,  y = batch\n",
    "        y_pred = self(numerical, categorical)\n",
    "        loss = self.loss_fn(y_pred, y)\n",
    "        self.log(\"val_loss\", loss, prog_bar=True, on_epoch=True, on_step=False)\n",
    "\n",
    "    def configure_optimizers(self):\n",
    "        return optim.Adam(self.parameters(), lr=0.01)\n",
    "\n",
    "model = RegressionModel(numerical_input_dim = X_train_numeric.shape[1], embedding_cardinality=categorical_cardinalities).to(device)\n",
    "model.train()\n",
    "trainer = pl.Trainer(max_epochs=10, log_every_n_steps=1, accelerator=str(device), precision=\"16-mixed\")\n",
    "trainer.fit(model, train_loader, validation_loader)"
   ],
   "id": "484577cc6ab5b11d",
   "outputs": [
    {
     "name": "stderr",
     "output_type": "stream",
     "text": [
      "Using 16bit Automatic Mixed Precision (AMP)\n",
      "/Users/ozge/PycharmProjects/ozge/kaggle/.env/lib/python3.9/site-packages/torch/amp/grad_scaler.py:132: UserWarning: torch.cuda.amp.GradScaler is enabled, but CUDA is not available.  Disabling.\n",
      "  warnings.warn(\n",
      "GPU available: True (mps), used: True\n",
      "TPU available: False, using: 0 TPU cores\n",
      "HPU available: False, using: 0 HPUs\n",
      "\n",
      "  | Name       | Type       | Params | Mode \n",
      "--------------------------------------------------\n",
      "0 | embeddings | ModuleList | 804    | train\n",
      "1 | model      | Sequential | 6.4 K  | train\n",
      "2 | loss_fn    | MSELoss    | 0      | train\n",
      "--------------------------------------------------\n",
      "7.2 K     Trainable params\n",
      "0         Non-trainable params\n",
      "7.2 K     Total params\n",
      "0.029     Total estimated model params size (MB)\n",
      "13        Modules in train mode\n",
      "0         Modules in eval mode\n"
     ]
    },
    {
     "data": {
      "text/plain": [
       "Sanity Checking: |          | 0/? [00:00<?, ?it/s]"
      ],
      "application/vnd.jupyter.widget-view+json": {
       "version_major": 2,
       "version_minor": 0,
       "model_id": "f85eb428aa854ff49ea78a005ef1e6e0"
      }
     },
     "metadata": {},
     "output_type": "display_data"
    },
    {
     "name": "stderr",
     "output_type": "stream",
     "text": [
      "/Users/ozge/PycharmProjects/ozge/kaggle/.env/lib/python3.9/site-packages/pytorch_lightning/trainer/connectors/data_connector.py:425: The 'val_dataloader' does not have many workers which may be a bottleneck. Consider increasing the value of the `num_workers` argument` to `num_workers=11` in the `DataLoader` to improve performance.\n",
      "/Users/ozge/PycharmProjects/ozge/kaggle/.env/lib/python3.9/site-packages/torch/amp/autocast_mode.py:266: UserWarning: User provided device_type of 'cuda', but CUDA is not available. Disabling\n",
      "  warnings.warn(\n",
      "/Users/ozge/PycharmProjects/ozge/kaggle/.env/lib/python3.9/site-packages/pytorch_lightning/trainer/connectors/data_connector.py:425: The 'train_dataloader' does not have many workers which may be a bottleneck. Consider increasing the value of the `num_workers` argument` to `num_workers=11` in the `DataLoader` to improve performance.\n"
     ]
    },
    {
     "data": {
      "text/plain": [
       "Training: |          | 0/? [00:00<?, ?it/s]"
      ],
      "application/vnd.jupyter.widget-view+json": {
       "version_major": 2,
       "version_minor": 0,
       "model_id": "1a79629a1e7f429c842b0ed17c0625c9"
      }
     },
     "metadata": {},
     "output_type": "display_data"
    },
    {
     "data": {
      "text/plain": [
       "Validation: |          | 0/? [00:00<?, ?it/s]"
      ],
      "application/vnd.jupyter.widget-view+json": {
       "version_major": 2,
       "version_minor": 0,
       "model_id": "66364860d7d1485f8c91e1b69675ebe9"
      }
     },
     "metadata": {},
     "output_type": "display_data"
    },
    {
     "data": {
      "text/plain": [
       "Validation: |          | 0/? [00:00<?, ?it/s]"
      ],
      "application/vnd.jupyter.widget-view+json": {
       "version_major": 2,
       "version_minor": 0,
       "model_id": "0c80c387ebcb495b97b6eba108d82a58"
      }
     },
     "metadata": {},
     "output_type": "display_data"
    },
    {
     "data": {
      "text/plain": [
       "Validation: |          | 0/? [00:00<?, ?it/s]"
      ],
      "application/vnd.jupyter.widget-view+json": {
       "version_major": 2,
       "version_minor": 0,
       "model_id": "4ae9da72a48a4583b8a274b0fb73a5a6"
      }
     },
     "metadata": {},
     "output_type": "display_data"
    },
    {
     "data": {
      "text/plain": [
       "Validation: |          | 0/? [00:00<?, ?it/s]"
      ],
      "application/vnd.jupyter.widget-view+json": {
       "version_major": 2,
       "version_minor": 0,
       "model_id": "d7313ba3f9654abe81508b3bccd6800a"
      }
     },
     "metadata": {},
     "output_type": "display_data"
    },
    {
     "data": {
      "text/plain": [
       "Validation: |          | 0/? [00:00<?, ?it/s]"
      ],
      "application/vnd.jupyter.widget-view+json": {
       "version_major": 2,
       "version_minor": 0,
       "model_id": "70e76544381348dab88fd2b1897143d0"
      }
     },
     "metadata": {},
     "output_type": "display_data"
    },
    {
     "data": {
      "text/plain": [
       "Validation: |          | 0/? [00:00<?, ?it/s]"
      ],
      "application/vnd.jupyter.widget-view+json": {
       "version_major": 2,
       "version_minor": 0,
       "model_id": "9c40d1c14d7a4b7386beca4041e9b685"
      }
     },
     "metadata": {},
     "output_type": "display_data"
    },
    {
     "data": {
      "text/plain": [
       "Validation: |          | 0/? [00:00<?, ?it/s]"
      ],
      "application/vnd.jupyter.widget-view+json": {
       "version_major": 2,
       "version_minor": 0,
       "model_id": "3b8ef5cd8bb447f3a4d6cb2c2353a32d"
      }
     },
     "metadata": {},
     "output_type": "display_data"
    },
    {
     "data": {
      "text/plain": [
       "Validation: |          | 0/? [00:00<?, ?it/s]"
      ],
      "application/vnd.jupyter.widget-view+json": {
       "version_major": 2,
       "version_minor": 0,
       "model_id": "b8366613b72b4d15a992ab6f3175b4a4"
      }
     },
     "metadata": {},
     "output_type": "display_data"
    },
    {
     "data": {
      "text/plain": [
       "Validation: |          | 0/? [00:00<?, ?it/s]"
      ],
      "application/vnd.jupyter.widget-view+json": {
       "version_major": 2,
       "version_minor": 0,
       "model_id": "3ad0835edb7941f082d6a16a15985b4a"
      }
     },
     "metadata": {},
     "output_type": "display_data"
    },
    {
     "data": {
      "text/plain": [
       "Validation: |          | 0/? [00:00<?, ?it/s]"
      ],
      "application/vnd.jupyter.widget-view+json": {
       "version_major": 2,
       "version_minor": 0,
       "model_id": "769203bc03544dcfb107462156d95af8"
      }
     },
     "metadata": {},
     "output_type": "display_data"
    },
    {
     "name": "stderr",
     "output_type": "stream",
     "text": [
      "`Trainer.fit` stopped: `max_epochs=10` reached.\n"
     ]
    }
   ],
   "execution_count": 29
  },
  {
   "metadata": {
    "ExecuteTime": {
     "end_time": "2025-03-14T21:34:19.750158Z",
     "start_time": "2025-03-14T21:34:19.591983Z"
    }
   },
   "cell_type": "code",
   "source": [
    "model.eval()\n",
    "test_to_pred_numeric = torch.tensor(X_test_numeric.values, dtype=torch.float32, device=device)\n",
    "test_to_pred_embedding = torch.tensor(X_test_embedding.values, dtype=torch.int, device=device)\n",
    "with torch.no_grad():\n",
    "    predictions = model.to(str(device))(test_to_pred_numeric,test_to_pred_embedding)\n",
    "predictions = predictions.cpu().numpy().reshape(-1)\n",
    "print(\"Predictions:\", predictions)"
   ],
   "id": "ef9dbbc212afc549",
   "outputs": [
    {
     "name": "stdout",
     "output_type": "stream",
     "text": [
      "Predictions: [348.1952  212.13953  98.1695  ... 349.37158 273.98965  55.39944]\n"
     ]
    }
   ],
   "execution_count": 30
  },
  {
   "metadata": {
    "ExecuteTime": {
     "end_time": "2025-03-14T21:34:21.549428Z",
     "start_time": "2025-03-14T21:34:21.543228Z"
    }
   },
   "cell_type": "code",
   "source": [
    "mae = mean_absolute_error(y_test.values, predictions)\n",
    "mse = mean_squared_error(y_test.values, predictions)\n",
    "print(f\"Mean Absolute Error: {mae}\")\n",
    "print(f\"Mean Squared Error: {mse}\")\n",
    "\n",
    "\"\"\"\n",
    "Mean Absolute Error: 147.2391832704101\n",
    "Mean Squared Error: 60632.16680838898\n",
    "\n",
    "Mean Absolute Error: 103.89691858055811\n",
    "Mean Squared Error: 38411.99397804801\n",
    "\n",
    "Mean Absolute Error: 94.41249263131034\n",
    "Mean Squared Error: 33476.05190155651\n",
    "\"\"\""
   ],
   "id": "5923cf83c5369548",
   "outputs": [
    {
     "name": "stdout",
     "output_type": "stream",
     "text": [
      "Mean Absolute Error: 94.41249263131034\n",
      "Mean Squared Error: 33476.05190155651\n"
     ]
    },
    {
     "data": {
      "text/plain": [
       "'\\nMean Absolute Error: 147.2391832704101\\nMean Squared Error: 60632.16680838898\\n\\nMean Absolute Error: 103.89691858055811\\nMean Squared Error: 38411.99397804801\\n'"
      ]
     },
     "execution_count": 31,
     "metadata": {},
     "output_type": "execute_result"
    }
   ],
   "execution_count": 31
  },
  {
   "metadata": {
    "ExecuteTime": {
     "end_time": "2025-03-14T21:03:42.757637Z",
     "start_time": "2025-03-14T21:03:42.754652Z"
    }
   },
   "cell_type": "code",
   "source": [
    "a = 3\n",
    "b = 5\n",
    "c= 7\n",
    "print(a)\n"
   ],
   "id": "9b9e06107d3fff2e",
   "outputs": [
    {
     "name": "stdout",
     "output_type": "stream",
     "text": [
      "3\n"
     ]
    }
   ],
   "execution_count": 50
  },
  {
   "metadata": {},
   "cell_type": "code",
   "outputs": [],
   "execution_count": null,
   "source": "",
   "id": "512b7ddce819cf62"
  }
 ],
 "metadata": {
  "kernelspec": {
   "display_name": "Python 3",
   "language": "python",
   "name": "python3"
  },
  "language_info": {
   "codemirror_mode": {
    "name": "ipython",
    "version": 2
   },
   "file_extension": ".py",
   "mimetype": "text/x-python",
   "name": "python",
   "nbconvert_exporter": "python",
   "pygments_lexer": "ipython2",
   "version": "2.7.6"
  }
 },
 "nbformat": 4,
 "nbformat_minor": 5
}
